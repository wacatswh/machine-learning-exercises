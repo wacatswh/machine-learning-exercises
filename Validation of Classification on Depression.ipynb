{
 "cells": [
  {
   "cell_type": "code",
   "execution_count": 1,
   "metadata": {},
   "outputs": [],
   "source": [
    "import pickle\n",
    "import pandas as pd\n",
    "import os\n",
    "import numpy as np\n",
    "from sklearn import preprocessing\n",
    "from sklearn.metrics import classification_report\n",
    "from sklearn.metrics import confusion_matrix"
   ]
  },
  {
   "cell_type": "code",
   "execution_count": 2,
   "metadata": {},
   "outputs": [],
   "source": [
    "norm_model = pickle.load(open('norm_model.sav', 'rb'))"
   ]
  },
  {
   "cell_type": "code",
   "execution_count": 3,
   "metadata": {},
   "outputs": [],
   "source": [
    "# Preprocess test set into usable test set\n",
    "le = preprocessing.LabelEncoder()\n",
    "\n",
    "norm_test_set = pd.read_csv('Dataset/Norm_PHO_Binary_Test_Set.csv')\n",
    "norm_test_set = pd.get_dummies(norm_test_set, columns = ['Gender'])\n",
    "norm_test_set.drop(norm_test_set.filter(regex = \"Unname\"), axis = 1, inplace = True)\n",
    "norm_test_set['Depression'] = le.fit_transform(norm_test_set['Depression'])\n",
    "\n",
    "norm_test_set_x = norm_test_set.drop(columns = \"Depression\")\n",
    "norm_test_set_y = norm_test_set[['Depression']]"
   ]
  },
  {
   "cell_type": "code",
   "execution_count": 4,
   "metadata": {},
   "outputs": [
    {
     "data": {
      "text/plain": [
       "SVC(random_state=8)"
      ]
     },
     "execution_count": 4,
     "metadata": {},
     "output_type": "execute_result"
    }
   ],
   "source": [
    "# Preprocessing the data EXACTLY SAME as Assignment 1 to fit the model\n",
    "# No cheating promised, I fitted the GridSearchCV instead of the model previously\n",
    "norm_training_set = pd.read_csv('Dataset/Norm-PHO-Binary.csv')\n",
    "norm_training_set = pd.get_dummies(norm_training_set, columns = ['Gender'])\n",
    "norm_training_set.drop(norm_training_set.filter(regex = \"Unname\"), axis = 1, inplace = True)\n",
    "norm_training_set['Depression'] = le.fit_transform(norm_training_set['Depression'])\n",
    "\n",
    "# Training set X to be used for fitting\n",
    "norm_training_set_x = norm_training_set.drop(columns = \"Depression\")\n",
    "norm_training_set_y = norm_training_set[['Depression']]\n",
    "\n",
    "# Fitting the model loaded, with EXACT SAME preprocess steps as Assignment 1\n",
    "norm_model.fit(norm_training_set_x, np.ravel(norm_training_set_y))"
   ]
  },
  {
   "cell_type": "code",
   "execution_count": 5,
   "metadata": {},
   "outputs": [],
   "source": [
    "y_pred = norm_model.predict(norm_test_set_x)"
   ]
  },
  {
   "cell_type": "code",
   "execution_count": 6,
   "metadata": {},
   "outputs": [
    {
     "name": "stdout",
     "output_type": "stream",
     "text": [
      "              precision    recall  f1-score   support\n",
      "\n",
      "           0       0.79      0.79      0.79        24\n",
      "           1       0.75      0.75      0.75        20\n",
      "\n",
      "    accuracy                           0.77        44\n",
      "   macro avg       0.77      0.77      0.77        44\n",
      "weighted avg       0.77      0.77      0.77        44\n",
      "\n"
     ]
    }
   ],
   "source": [
    "print(classification_report(norm_test_set_y, y_pred))"
   ]
  },
  {
   "cell_type": "code",
   "execution_count": 7,
   "metadata": {},
   "outputs": [
    {
     "name": "stdout",
     "output_type": "stream",
     "text": [
      "[[19  5]\n",
      " [ 5 15]]\n"
     ]
    }
   ],
   "source": [
    "print(confusion_matrix(norm_test_set_y, y_pred, labels))"
   ]
  }
 ],
 "metadata": {
  "kernelspec": {
   "display_name": "Python 3 (ipykernel)",
   "language": "python",
   "name": "python3"
  },
  "language_info": {
   "codemirror_mode": {
    "name": "ipython",
    "version": 3
   },
   "file_extension": ".py",
   "mimetype": "text/x-python",
   "name": "python",
   "nbconvert_exporter": "python",
   "pygments_lexer": "ipython3",
   "version": "3.9.7"
  }
 },
 "nbformat": 4,
 "nbformat_minor": 4
}
