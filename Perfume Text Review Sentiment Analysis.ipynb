{
 "cells": [
  {
   "cell_type": "code",
   "execution_count": 1,
   "metadata": {},
   "outputs": [],
   "source": [
    "#pip install vaderSentiment\n",
    "#nltk.download('wordnet')\n",
    "#nltk.download('punkt')\n",
    "import pandas as pd\n",
    "import os\n",
    "import numpy as np\n",
    "import nltk\n",
    "from nltk.stem import WordNetLemmatizer\n",
    "from nltk.tokenize import word_tokenize\n",
    "from vaderSentiment.vaderSentiment import SentimentIntensityAnalyzer\n",
    "from vaderSentiment.vaderSentiment import normalize\n",
    "\n",
    "path = \"/Users/wacats_wh/Documents/Workarea/Jupyter Workarea\"\n",
    "os.chdir(path)\n",
    "\n",
    "df = pd.read_csv('Dataset/fragrantica_perfume_review.csv')"
   ]
  },
  {
   "cell_type": "code",
   "execution_count": 2,
   "metadata": {},
   "outputs": [
    {
     "data": {
      "text/plain": [
       "(200, 3)"
      ]
     },
     "execution_count": 2,
     "metadata": {},
     "output_type": "execute_result"
    }
   ],
   "source": [
    "df.shape"
   ]
  },
  {
   "cell_type": "code",
   "execution_count": 3,
   "metadata": {
    "scrolled": true
   },
   "outputs": [
    {
     "data": {
      "text/html": [
       "<div>\n",
       "<style scoped>\n",
       "    .dataframe tbody tr th:only-of-type {\n",
       "        vertical-align: middle;\n",
       "    }\n",
       "\n",
       "    .dataframe tbody tr th {\n",
       "        vertical-align: top;\n",
       "    }\n",
       "\n",
       "    .dataframe thead th {\n",
       "        text-align: right;\n",
       "    }\n",
       "</style>\n",
       "<table border=\"1\" class=\"dataframe\">\n",
       "  <thead>\n",
       "    <tr style=\"text-align: right;\">\n",
       "      <th></th>\n",
       "      <th>web-scraper-order</th>\n",
       "      <th>web-scraper-start-url</th>\n",
       "      <th>review</th>\n",
       "    </tr>\n",
       "  </thead>\n",
       "  <tbody>\n",
       "    <tr>\n",
       "      <th>0</th>\n",
       "      <td>1643477268-84</td>\n",
       "      <td>https://www.fragrantica.com/perfume/Jo-Malone-...</td>\n",
       "      <td>Jo Malone’s Wood Sage and Sea Salt Cologne cap...</td>\n",
       "    </tr>\n",
       "  </tbody>\n",
       "</table>\n",
       "</div>"
      ],
      "text/plain": [
       "  web-scraper-order                              web-scraper-start-url  \\\n",
       "0     1643477268-84  https://www.fragrantica.com/perfume/Jo-Malone-...   \n",
       "\n",
       "                                              review  \n",
       "0  Jo Malone’s Wood Sage and Sea Salt Cologne cap...  "
      ]
     },
     "execution_count": 3,
     "metadata": {},
     "output_type": "execute_result"
    }
   ],
   "source": [
    "df.head(1)"
   ]
  },
  {
   "cell_type": "code",
   "execution_count": 4,
   "metadata": {},
   "outputs": [
    {
     "name": "stdout",
     "output_type": "stream",
     "text": [
      "Jo Malone’s Wood Sage and Sea Salt Cologne captures the spirited crisp of a north English coastline and its body of minerals, driftwood and saltwater wisps; creating a scent story as soothing as its inspiration. This is a fragrance that is essentially pink and gray in essence like the natural colour of sea salt and bedrock it beautifully emulates; emanating cool whiffs of briny air, sulfuric moisture of red algae, camphorous woods and stony edges... Truly, an imagining that note-wise may suggest a green aquatic but delightfully far and wide from that sort. It can be collectively likened to a creamy and cool spa treatment, raised by its minor hints of buchu leaf, rounded plum, dried fruit, giving the greater sum of its parts, sage, seawood, grapefruit, and ambrette a full radiance that is ethereal, peachy clean and ozonic. The sage, in particular, with its mentholated drift carries an uplifting weight to the saline heart, offering a natural earthy depth to the accord. Surely, this is an ambient signature for warmer climate that fares well for a cologne with its soft sillage and longevity, especially on clothing. Simply, a gender bender that is intimate as hovering thoughts among gray pebbles, damp sand, driftwood, herbal shrubs, sea mists, cool air of a northern sea… Riveting!\n"
     ]
    }
   ],
   "source": [
    "# Before tokenizing & lemmatizing 'review' column\n",
    "print(df.iloc[0]['review'])"
   ]
  },
  {
   "cell_type": "code",
   "execution_count": 5,
   "metadata": {},
   "outputs": [],
   "source": [
    "# Declare sentiment analyzer helper functions\n",
    "lemmatizer = WordNetLemmatizer()\n",
    "\n",
    "def lemmatize(word):\n",
    "    return lemmatizer.lemmatize(word)\n",
    "\n",
    "def lemmatize_paragraph(paragraph):\n",
    "    word_list = []\n",
    "    tokens = word_tokenize(paragraph)\n",
    "    for token in tokens:\n",
    "        word_list.append(lemmatize(token))\n",
    "    sentence = \" \".join(word_list)\n",
    "    return sentence"
   ]
  },
  {
   "cell_type": "code",
   "execution_count": 6,
   "metadata": {},
   "outputs": [],
   "source": [
    "# Apply function 'lemmatize_paragraph' on all 'review' column\n",
    "df['review'] = df['review'].apply(lemmatize_paragraph)"
   ]
  },
  {
   "cell_type": "code",
   "execution_count": 7,
   "metadata": {
    "scrolled": false
   },
   "outputs": [
    {
     "name": "stdout",
     "output_type": "stream",
     "text": [
      "Jo Malone ’ s Wood Sage and Sea Salt Cologne capture the spirited crisp of a north English coastline and it body of mineral , driftwood and saltwater wisp ; creating a scent story a soothing a it inspiration . This is a fragrance that is essentially pink and gray in essence like the natural colour of sea salt and bedrock it beautifully emulates ; emanating cool whiff of briny air , sulfuric moisture of red algae , camphorous wood and stony edge ... Truly , an imagining that note-wise may suggest a green aquatic but delightfully far and wide from that sort . It can be collectively likened to a creamy and cool spa treatment , raised by it minor hint of buchu leaf , rounded plum , dried fruit , giving the greater sum of it part , sage , seawood , grapefruit , and ambrette a full radiance that is ethereal , peachy clean and ozonic . The sage , in particular , with it mentholated drift carry an uplifting weight to the saline heart , offering a natural earthy depth to the accord . Surely , this is an ambient signature for warmer climate that fare well for a cologne with it soft sillage and longevity , especially on clothing . Simply , a gender bender that is intimate a hovering thought among gray pebble , damp sand , driftwood , herbal shrub , sea mist , cool air of a northern sea… Riveting !\n"
     ]
    }
   ],
   "source": [
    "# After tokenizing & lemmatizing review column\n",
    "print(df.iloc[0]['review'])"
   ]
  },
  {
   "cell_type": "code",
   "execution_count": 8,
   "metadata": {},
   "outputs": [],
   "source": [
    "# Define helper function for sentiment analyzer\n",
    "analyser = SentimentIntensityAnalyzer()\n",
    "\n",
    "def sentiment_analyzer_scores(sentence):\n",
    "    score = analyser.polarity_scores(sentence)\n",
    "    return score"
   ]
  },
  {
   "cell_type": "code",
   "execution_count": 9,
   "metadata": {},
   "outputs": [
    {
     "name": "stdout",
     "output_type": "stream",
     "text": [
      "{'neg': 0.0, 'neu': 0.797, 'pos': 0.203, 'compound': 0.9945}\n"
     ]
    }
   ],
   "source": [
    "# See example of return value by sentiment analyzer score\n",
    "print(sentiment_analyzer_scores(df.iloc[0]['review']))"
   ]
  },
  {
   "cell_type": "code",
   "execution_count": 10,
   "metadata": {},
   "outputs": [],
   "source": [
    "# Store sentiment scores of each row\n",
    "score = []\n",
    "\n",
    "for index, row in df.iterrows():\n",
    "    score_dict = sentiment_analyzer_scores(row['review'])\n",
    "    score.append(score_dict['compound'])"
   ]
  },
  {
   "cell_type": "code",
   "execution_count": 11,
   "metadata": {},
   "outputs": [
    {
     "data": {
      "text/html": [
       "<div>\n",
       "<style scoped>\n",
       "    .dataframe tbody tr th:only-of-type {\n",
       "        vertical-align: middle;\n",
       "    }\n",
       "\n",
       "    .dataframe tbody tr th {\n",
       "        vertical-align: top;\n",
       "    }\n",
       "\n",
       "    .dataframe thead th {\n",
       "        text-align: right;\n",
       "    }\n",
       "</style>\n",
       "<table border=\"1\" class=\"dataframe\">\n",
       "  <thead>\n",
       "    <tr style=\"text-align: right;\">\n",
       "      <th></th>\n",
       "      <th>web-scraper-order</th>\n",
       "      <th>web-scraper-start-url</th>\n",
       "      <th>review</th>\n",
       "      <th>sentiment_score</th>\n",
       "    </tr>\n",
       "  </thead>\n",
       "  <tbody>\n",
       "    <tr>\n",
       "      <th>0</th>\n",
       "      <td>1643477268-84</td>\n",
       "      <td>https://www.fragrantica.com/perfume/Jo-Malone-...</td>\n",
       "      <td>Jo Malone ’ s Wood Sage and Sea Salt Cologne c...</td>\n",
       "      <td>0.9945</td>\n",
       "    </tr>\n",
       "    <tr>\n",
       "      <th>1</th>\n",
       "      <td>1643477268-188</td>\n",
       "      <td>https://www.fragrantica.com/perfume/Jo-Malone-...</td>\n",
       "      <td>My favorite scent ! I actually ended up going ...</td>\n",
       "      <td>0.9955</td>\n",
       "    </tr>\n",
       "    <tr>\n",
       "      <th>2</th>\n",
       "      <td>1643477268-125</td>\n",
       "      <td>https://www.fragrantica.com/perfume/Jo-Malone-...</td>\n",
       "      <td>I 'm a man in my late 30 's and , at my wife '...</td>\n",
       "      <td>0.9895</td>\n",
       "    </tr>\n",
       "    <tr>\n",
       "      <th>3</th>\n",
       "      <td>1643477268-144</td>\n",
       "      <td>https://www.fragrantica.com/perfume/Jo-Malone-...</td>\n",
       "      <td>This fragrance smell like salty skin after lea...</td>\n",
       "      <td>0.7702</td>\n",
       "    </tr>\n",
       "    <tr>\n",
       "      <th>4</th>\n",
       "      <td>1643477268-154</td>\n",
       "      <td>https://www.fragrantica.com/perfume/Jo-Malone-...</td>\n",
       "      <td>Definitely unisex . I do n't get the sage , bu...</td>\n",
       "      <td>0.7423</td>\n",
       "    </tr>\n",
       "  </tbody>\n",
       "</table>\n",
       "</div>"
      ],
      "text/plain": [
       "  web-scraper-order                              web-scraper-start-url  \\\n",
       "0     1643477268-84  https://www.fragrantica.com/perfume/Jo-Malone-...   \n",
       "1    1643477268-188  https://www.fragrantica.com/perfume/Jo-Malone-...   \n",
       "2    1643477268-125  https://www.fragrantica.com/perfume/Jo-Malone-...   \n",
       "3    1643477268-144  https://www.fragrantica.com/perfume/Jo-Malone-...   \n",
       "4    1643477268-154  https://www.fragrantica.com/perfume/Jo-Malone-...   \n",
       "\n",
       "                                              review  sentiment_score  \n",
       "0  Jo Malone ’ s Wood Sage and Sea Salt Cologne c...           0.9945  \n",
       "1  My favorite scent ! I actually ended up going ...           0.9955  \n",
       "2  I 'm a man in my late 30 's and , at my wife '...           0.9895  \n",
       "3  This fragrance smell like salty skin after lea...           0.7702  \n",
       "4  Definitely unisex . I do n't get the sage , bu...           0.7423  "
      ]
     },
     "execution_count": 11,
     "metadata": {},
     "output_type": "execute_result"
    }
   ],
   "source": [
    "# Attach score into dataframe as new column 'sentiment_score'\n",
    "df['sentiment_score'] = score\n",
    "\n",
    "df.head(5)"
   ]
  },
  {
   "cell_type": "code",
   "execution_count": 12,
   "metadata": {},
   "outputs": [
    {
     "data": {
      "text/plain": [
       "<AxesSubplot:title={'center':'Histogram of Frequency against Sentiment Score of Jo Malone Wood Sage & Sea Salt'}, ylabel='Frequency'>"
      ]
     },
     "execution_count": 12,
     "metadata": {},
     "output_type": "execute_result"
    },
    {
     "data": {
      "image/png": "[encoded data removed]",
      "text/plain": [
       "<Figure size 576x360 with 1 Axes>"
      ]
     },
     "metadata": {
      "needs_background": "light"
     },
     "output_type": "display_data"
    }
   ],
   "source": [
    "# Plot histogram to see distribution\n",
    "df['sentiment_score'].plot.hist(\n",
    "        title = \"Histogram of Frequency against Sentiment Score of Jo Malone Wood Sage & Sea Salt\",\n",
    "        legend = False,\n",
    "        bins = 20,\n",
    "        #xlabel = 'Sentiment Score', xlabel not working :(\n",
    "        alpha = 0.7,\n",
    "        color = 'purple',\n",
    "        figsize = (8, 5)\n",
    "        )"
   ]
  }
 ],
 "metadata": {
  "kernelspec": {
   "display_name": "Python 3 (ipykernel)",
   "language": "python",
   "name": "python3"
  },
  "language_info": {
   "codemirror_mode": {
    "name": "ipython",
    "version": 3
   },
   "file_extension": ".py",
   "mimetype": "text/x-python",
   "name": "python",
   "nbconvert_exporter": "python",
   "pygments_lexer": "ipython3",
   "version": "3.9.7"
  }
 },
 "nbformat": 4,
 "nbformat_minor": 4
}
