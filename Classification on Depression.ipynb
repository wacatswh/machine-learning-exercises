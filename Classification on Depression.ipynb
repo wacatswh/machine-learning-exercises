{
 "cells": [
  {
   "cell_type": "code",
   "execution_count": 1,
   "metadata": {},
   "outputs": [],
   "source": [
    "import pandas as pd\n",
    "import os\n",
    "import numpy as np\n",
    "\n",
    "path = \"/Users/wacats_wh/Documents/Workarea/Jupyter Workarea\"\n",
    "os.chdir(path)"
   ]
  },
  {
   "cell_type": "code",
   "execution_count": 2,
   "metadata": {},
   "outputs": [],
   "source": [
    "freq_df = pd.read_csv('Dataset/Freq-PHO-Binary.csv')\n",
    "norm_df = pd.read_csv('Dataset/Norm-PHO-Binary.csv')"
   ]
  },
  {
   "cell_type": "code",
   "execution_count": 3,
   "metadata": {},
   "outputs": [
    {
     "data": {
      "text/plain": [
       "<AxesSubplot:>"
      ]
     },
     "execution_count": 3,
     "metadata": {},
     "output_type": "execute_result"
    },
    {
     "data": {
      "image/png": "[encoded data removed]",
      "text/plain": [
       "<Figure size 432x288 with 1 Axes>"
      ]
     },
     "metadata": {
      "needs_background": "light"
     },
     "output_type": "display_data"
    }
   ],
   "source": [
    "freq_df['Depression'].value_counts().plot(kind = 'bar')"
   ]
  },
  {
   "cell_type": "code",
   "execution_count": 4,
   "metadata": {},
   "outputs": [
    {
     "data": {
      "text/plain": [
       "Depression\n",
       "NO     137\n",
       "YES    119\n",
       "dtype: int64"
      ]
     },
     "execution_count": 4,
     "metadata": {},
     "output_type": "execute_result"
    }
   ],
   "source": [
    "freq_df.groupby('Depression').size()"
   ]
  },
  {
   "cell_type": "code",
   "execution_count": 5,
   "metadata": {},
   "outputs": [],
   "source": [
    "from sklearn.dummy import DummyClassifier\n",
    "from sklearn.model_selection import StratifiedKFold\n",
    "from sklearn.model_selection import cross_val_score\n",
    "from sklearn import preprocessing\n",
    "from sklearn.tree import DecisionTreeClassifier\n",
    "from sklearn.neighbors import KNeighborsClassifier\n",
    "from sklearn.svm import SVC\n",
    "from sklearn.model_selection import GridSearchCV"
   ]
  },
  {
   "cell_type": "code",
   "execution_count": 6,
   "metadata": {},
   "outputs": [],
   "source": [
    "# Preprocessing One-Hot-Encoding on Gender and binarizing Depression\n",
    "le = preprocessing.LabelEncoder()\n",
    "\n",
    "freq_df = pd.get_dummies(freq_df, columns = ['Gender'])\n",
    "freq_df.drop(freq_df.filter(regex = \"Unname\"),axis = 1, inplace = True)\n",
    "freq_df['Depression'] = le.fit_transform(freq_df['Depression'])\n",
    "\n",
    "norm_df = pd.get_dummies(norm_df, columns = ['Gender'])\n",
    "norm_df.drop(norm_df.filter(regex = \"Unname\"), axis = 1, inplace = True)\n",
    "norm_df['Depression'] = le.fit_transform(norm_df['Depression'])"
   ]
  },
  {
   "cell_type": "code",
   "execution_count": 7,
   "metadata": {},
   "outputs": [],
   "source": [
    "freq_X = freq_df.drop(columns = 'Depression') # Training\n",
    "freq_y = freq_df[['Depression']] # Target\n",
    "\n",
    "norm_X = norm_df.drop(columns = 'Depression') # Training\n",
    "norm_y = norm_df[['Depression']] # Target"
   ]
  },
  {
   "cell_type": "code",
   "execution_count": 8,
   "metadata": {},
   "outputs": [],
   "source": [
    "dummy = DummyClassifier(strategy = 'uniform', random_state = 8)\n",
    "cv = StratifiedKFold(n_splits = 5, shuffle = True, random_state = 8)"
   ]
  },
  {
   "cell_type": "code",
   "execution_count": 9,
   "metadata": {},
   "outputs": [
    {
     "name": "stdout",
     "output_type": "stream",
     "text": [
      "Freq_df dummy accuracy:  0.4497737556561086\n"
     ]
    }
   ],
   "source": [
    "# Freq_df on dummy classifier as baseline\n",
    "freq_dummy_scores = cross_val_score(dummy, freq_X, freq_y, scoring = 'accuracy', cv = cv)\n",
    "print(\"Freq_df dummy accuracy: \", np.mean(freq_dummy_scores))"
   ]
  },
  {
   "cell_type": "code",
   "execution_count": 10,
   "metadata": {
    "scrolled": true
   },
   "outputs": [
    {
     "name": "stdout",
     "output_type": "stream",
     "text": [
      "Norm_df dummy accuracy:  0.4497737556561086\n"
     ]
    }
   ],
   "source": [
    "# Norm_df on dummy classifier as baseline\n",
    "norm_dummy_scores = cross_val_score(dummy, norm_X, norm_y, scoring = 'accuracy', cv = cv)\n",
    "print(\"Norm_df dummy accuracy: \", np.mean(norm_dummy_scores))"
   ]
  },
  {
   "cell_type": "code",
   "execution_count": 11,
   "metadata": {},
   "outputs": [],
   "source": [
    "# Default Decision Tree\n",
    "decision_tree = DecisionTreeClassifier(random_state = 8)"
   ]
  },
  {
   "cell_type": "code",
   "execution_count": 12,
   "metadata": {},
   "outputs": [
    {
     "name": "stdout",
     "output_type": "stream",
     "text": [
      "Freq_df default decision tree accuracy:  0.5232277526395174\n"
     ]
    }
   ],
   "source": [
    "# Freq_df on default Decision Tree classifier\n",
    "freq_decision_tree_scores = cross_val_score(decision_tree, freq_X, freq_y, scoring = 'accuracy', cv = cv)\n",
    "print(\"Freq_df default decision tree accuracy: \", np.mean(freq_decision_tree_scores))"
   ]
  },
  {
   "cell_type": "code",
   "execution_count": 13,
   "metadata": {},
   "outputs": [
    {
     "name": "stdout",
     "output_type": "stream",
     "text": [
      "Norm_df default decision tree accuracy:  0.5115384615384615\n"
     ]
    }
   ],
   "source": [
    "# Norm_df on default Decision Tree classifier\n",
    "norm_decision_tree_scores = cross_val_score(decision_tree, norm_X, norm_y, scoring = 'accuracy', cv = cv)\n",
    "print(\"Norm_df default decision tree accuracy: \", np.mean(norm_decision_tree_scores))"
   ]
  },
  {
   "cell_type": "code",
   "execution_count": 14,
   "metadata": {},
   "outputs": [],
   "source": [
    "# DecisionTree GridSearchCV\n",
    "dt_param_grid = {\n",
    "    'criterion': [\"gini\", \"entropy\"],\n",
    "    'max_depth': [5, 10, 15, 20],\n",
    "    'max_features': [1, 3, 5],\n",
    "    'random_state': [8]\n",
    "}\n",
    "\n",
    "dt_grid = GridSearchCV(DecisionTreeClassifier(), dt_param_grid, refit = True)"
   ]
  },
  {
   "cell_type": "code",
   "execution_count": 15,
   "metadata": {},
   "outputs": [
    {
     "name": "stdout",
     "output_type": "stream",
     "text": [
      "Freq_df Decision Tree Best Params:  {'criterion': 'entropy', 'max_depth': 10, 'max_features': 5, 'random_state': 8}\n"
     ]
    }
   ],
   "source": [
    "# Best Decision Tree params for freq\n",
    "dt_grid.fit(freq_X, freq_y)\n",
    "print(\"Freq_df Decision Tree Best Params: \", dt_grid.best_params_)"
   ]
  },
  {
   "cell_type": "code",
   "execution_count": 16,
   "metadata": {},
   "outputs": [
    {
     "name": "stdout",
     "output_type": "stream",
     "text": [
      "Freq_df tuned Decision Tree accuracy:  0.5119909502262443\n"
     ]
    }
   ],
   "source": [
    "# Tuned freq_df Decision Tree score\n",
    "freq_dt = DecisionTreeClassifier(criterion = 'entropy', max_depth = 10, max_features = 5, random_state = 8)\n",
    "freq_dt_tuned_scores = cross_val_score(freq_dt, freq_X, np.ravel(freq_y), scoring = 'accuracy', cv = cv)\n",
    "print(\"Freq_df tuned Decision Tree accuracy: \", np.mean(freq_dt_tuned_scores))"
   ]
  },
  {
   "cell_type": "code",
   "execution_count": 17,
   "metadata": {},
   "outputs": [
    {
     "name": "stdout",
     "output_type": "stream",
     "text": [
      "Norm_df Decision Tree Best Params:  {'criterion': 'entropy', 'max_depth': 20, 'max_features': 5, 'random_state': 8}\n"
     ]
    }
   ],
   "source": [
    "# Best Decision Tree params for norm\n",
    "dt_grid.fit(norm_X, norm_y)\n",
    "print(\"Norm_df Decision Tree Best Params: \", dt_grid.best_params_)"
   ]
  },
  {
   "cell_type": "code",
   "execution_count": 18,
   "metadata": {},
   "outputs": [
    {
     "name": "stdout",
     "output_type": "stream",
     "text": [
      "Norm_df tuned Decision Tree accuracy:  0.5739819004524886\n"
     ]
    }
   ],
   "source": [
    "# Tuned norm_df Decision Tree score\n",
    "norm_dt = DecisionTreeClassifier(criterion = 'entropy', max_depth = 20, max_features = 5, random_state = 8)\n",
    "norm_dt_tuned_scores = cross_val_score(norm_dt, norm_X, np.ravel(norm_y), scoring = 'accuracy', cv = cv)\n",
    "print(\"Norm_df tuned Decision Tree accuracy: \", np.mean(norm_dt_tuned_scores))"
   ]
  },
  {
   "cell_type": "code",
   "execution_count": 19,
   "metadata": {},
   "outputs": [],
   "source": [
    "# Default SVC\n",
    "svc = SVC(random_state = 8)"
   ]
  },
  {
   "cell_type": "code",
   "execution_count": 20,
   "metadata": {},
   "outputs": [
    {
     "name": "stdout",
     "output_type": "stream",
     "text": [
      "Freq_df default SVC accuracy:  0.5897435897435898\n"
     ]
    }
   ],
   "source": [
    "# Freq_df on default SVM classifier\n",
    "freq_svc_scores = cross_val_score(svc, freq_X, np.ravel(freq_y), scoring = 'accuracy', cv = cv)\n",
    "print(\"Freq_df default SVC accuracy: \", np.mean(freq_svc_scores))"
   ]
  },
  {
   "cell_type": "code",
   "execution_count": 21,
   "metadata": {},
   "outputs": [
    {
     "name": "stdout",
     "output_type": "stream",
     "text": [
      "Norm_df default SVC accuracy:  0.6248868778280543\n"
     ]
    }
   ],
   "source": [
    "# Norm_df on default SVM classifier\n",
    "norm_svc_scores = cross_val_score(svc, norm_X, np.ravel(norm_y), scoring = 'accuracy', cv = cv)\n",
    "print(\"Norm_df default SVC accuracy: \", np.mean(norm_svc_scores))"
   ]
  },
  {
   "cell_type": "code",
   "execution_count": 22,
   "metadata": {},
   "outputs": [],
   "source": [
    "# SVC GridSearchCV\n",
    "svc_param_grid = {\n",
    "    'C': [0.1, 1, 10, 100],\n",
    "    'gamma': [1, 0.1, 0.001, 0.0001],\n",
    "    'kernel': ['rbf', 'poly', 'sigmoid'],\n",
    "    'random_state': [8]\n",
    "}\n",
    "\n",
    "svc_grid = GridSearchCV(SVC(), svc_param_grid, refit = True)"
   ]
  },
  {
   "cell_type": "code",
   "execution_count": 23,
   "metadata": {
    "scrolled": true
   },
   "outputs": [
    {
     "name": "stdout",
     "output_type": "stream",
     "text": [
      "Freq_df SVC Best Params:  {'C': 10, 'gamma': 0.0001, 'kernel': 'rbf', 'random_state': 8}\n"
     ]
    }
   ],
   "source": [
    "# Best SVC params for freq\n",
    "svc_grid.fit(freq_X, np.ravel(freq_y))\n",
    "print(\"Freq_df SVC Best Params: \", svc_grid.best_params_)"
   ]
  },
  {
   "cell_type": "code",
   "execution_count": 24,
   "metadata": {},
   "outputs": [
    {
     "name": "stdout",
     "output_type": "stream",
     "text": [
      "Freq_df tuned SVC accuracy:  0.6131221719457014\n"
     ]
    }
   ],
   "source": [
    "# Tuned freq SVC score\n",
    "freq_SVC = SVC(C = 10, gamma = 0.0001, kernel = 'rbf', random_state = 8)\n",
    "freq_svc_tuned_scores = cross_val_score(freq_SVC, freq_X, np.ravel(freq_y), scoring = 'accuracy', cv = cv)\n",
    "print(\"Freq_df tuned SVC accuracy: \", np.mean(freq_svc_tuned_scores))"
   ]
  },
  {
   "cell_type": "code",
   "execution_count": 25,
   "metadata": {
    "scrolled": true
   },
   "outputs": [
    {
     "name": "stdout",
     "output_type": "stream",
     "text": [
      "Norm_df SVC Best Params:  {'C': 100, 'gamma': 0.001, 'kernel': 'sigmoid', 'random_state': 8}\n"
     ]
    }
   ],
   "source": [
    "# Best SVC params for norm\n",
    "svc_grid.fit(norm_X, np.ravel(norm_y))\n",
    "print(\"Norm_df SVC Best Params: \", svc_grid.best_params_)"
   ]
  },
  {
   "cell_type": "code",
   "execution_count": 26,
   "metadata": {},
   "outputs": [
    {
     "name": "stdout",
     "output_type": "stream",
     "text": [
      "Norm_df tuned SVC accuracy:  0.6208898944193062\n"
     ]
    }
   ],
   "source": [
    "# Tuned norm SVC score\n",
    "norm_SVC = SVC(C = 100, gamma = 0.001, kernel = 'sigmoid', random_state = 8)\n",
    "norm_svc_tuned_scores = cross_val_score(norm_SVC, norm_X, np.ravel(norm_y), scoring = 'accuracy', cv = cv)\n",
    "print(\"Norm_df tuned SVC accuracy: \", np.mean(norm_svc_tuned_scores))"
   ]
  },
  {
   "cell_type": "code",
   "execution_count": 27,
   "metadata": {},
   "outputs": [],
   "source": [
    "# Default KNN\n",
    "knn = KNeighborsClassifier()"
   ]
  },
  {
   "cell_type": "code",
   "execution_count": 28,
   "metadata": {},
   "outputs": [
    {
     "name": "stdout",
     "output_type": "stream",
     "text": [
      "Freq_df default KNN accuracy:  0.5076923076923077\n"
     ]
    }
   ],
   "source": [
    "# Freq_df on default KNN classifier\n",
    "freq_knn_scores = cross_val_score(knn, freq_X, np.ravel(freq_y), scoring = 'accuracy', cv = cv)\n",
    "print(\"Freq_df default KNN accuracy: \", np.mean(freq_knn_scores))"
   ]
  },
  {
   "cell_type": "code",
   "execution_count": 29,
   "metadata": {},
   "outputs": [
    {
     "name": "stdout",
     "output_type": "stream",
     "text": [
      "Norm_df default KNN accuracy:  0.5780542986425339\n"
     ]
    }
   ],
   "source": [
    "# Norm_df on default KNN classifier\n",
    "norm_knn_scores = cross_val_score(knn, norm_X, np.ravel(norm_y), scoring = 'accuracy', cv = cv)\n",
    "print(\"Norm_df default KNN accuracy: \", np.mean(norm_knn_scores))"
   ]
  },
  {
   "cell_type": "code",
   "execution_count": 30,
   "metadata": {},
   "outputs": [],
   "source": [
    "# KNN GridSearchCV\n",
    "knn_param_grid = {\n",
    "    'n_neighbors': [1, 3, 5, 7, 9],\n",
    "    'weights': ['uniform', 'distance'],\n",
    "    'p': [1, 2] # 1 - Manhattan, 2 - Euclidean\n",
    "}\n",
    "\n",
    "knn_grid = GridSearchCV(KNeighborsClassifier(), knn_param_grid, refit = True)"
   ]
  },
  {
   "cell_type": "code",
   "execution_count": 31,
   "metadata": {},
   "outputs": [
    {
     "name": "stdout",
     "output_type": "stream",
     "text": [
      "Freq_df KNN Best Params:  {'n_neighbors': 7, 'p': 1, 'weights': 'distance'}\n"
     ]
    }
   ],
   "source": [
    "# Best KNN params for freq\n",
    "knn_grid.fit(freq_X, np.ravel(freq_y))\n",
    "print(\"Freq_df KNN Best Params: \", knn_grid.best_params_)"
   ]
  },
  {
   "cell_type": "code",
   "execution_count": 32,
   "metadata": {},
   "outputs": [
    {
     "name": "stdout",
     "output_type": "stream",
     "text": [
      "Freq_df tuned KNN accuracy:  0.5115384615384616\n"
     ]
    }
   ],
   "source": [
    "# Tuned freq KNN score\n",
    "freq_KNN = KNeighborsClassifier(n_neighbors = 7, p = 1, weights = 'distance')\n",
    "freq_knn_tuned_scores = cross_val_score(freq_KNN, freq_X, np.ravel(freq_y), scoring = 'accuracy', cv = cv)\n",
    "print(\"Freq_df tuned KNN accuracy: \", np.mean(freq_knn_tuned_scores))"
   ]
  },
  {
   "cell_type": "code",
   "execution_count": 33,
   "metadata": {
    "scrolled": false
   },
   "outputs": [
    {
     "name": "stdout",
     "output_type": "stream",
     "text": [
      "Norm_df KNN Best Params:  {'n_neighbors': 9, 'p': 1, 'weights': 'distance'}\n"
     ]
    }
   ],
   "source": [
    "# Best KNN params for freq\n",
    "knn_grid.fit(norm_X, np.ravel(norm_y))\n",
    "print(\"Norm_df KNN Best Params: \", knn_grid.best_params_)"
   ]
  },
  {
   "cell_type": "code",
   "execution_count": 34,
   "metadata": {},
   "outputs": [
    {
     "name": "stdout",
     "output_type": "stream",
     "text": [
      "Norm_df tuned KNN accuracy:  0.6011312217194571\n"
     ]
    }
   ],
   "source": [
    "# Tuned norm KNN score\n",
    "norm_KNN = KNeighborsClassifier(n_neighbors = 9, p = 1, weights = 'distance')\n",
    "norm_knn_tuned_scores = cross_val_score(norm_KNN, norm_X, np.ravel(norm_y), scoring = 'accuracy', cv = cv)\n",
    "print(\"Norm_df tuned KNN accuracy: \", np.mean(norm_knn_tuned_scores))"
   ]
  },
  {
   "cell_type": "code",
   "execution_count": 35,
   "metadata": {},
   "outputs": [],
   "source": [
    "import pickle\n",
    "\n",
    "freq_filename = 'freq_model.sav'\n",
    "norm_filename = 'norm_model.sav'\n",
    "\n",
    "pickle.dump(freq_SVC, open(freq_filename, 'wb')) # Tuned SVM Classifier\n",
    "pickle.dump(svc, open(norm_filename, 'wb')) # Default SVM Classifier..."
   ]
  }
 ],
 "metadata": {
  "kernelspec": {
   "display_name": "Python 3 (ipykernel)",
   "language": "python",
   "name": "python3"
  },
  "language_info": {
   "codemirror_mode": {
    "name": "ipython",
    "version": 3
   },
   "file_extension": ".py",
   "mimetype": "text/x-python",
   "name": "python",
   "nbconvert_exporter": "python",
   "pygments_lexer": "ipython3",
   "version": "3.9.7"
  }
 },
 "nbformat": 4,
 "nbformat_minor": 4
}
